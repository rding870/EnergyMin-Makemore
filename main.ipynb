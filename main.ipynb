{
 "cells": [
  {
   "cell_type": "code",
   "execution_count": 307,
   "metadata": {},
   "outputs": [
    {
     "data": {
      "text/plain": [
       "['emma', 'olivia', 'ava', 'isabella', 'sophia', 'charlotte', 'mia', 'amelia']"
      ]
     },
     "execution_count": 307,
     "metadata": {},
     "output_type": "execute_result"
    }
   ],
   "source": [
    "import torch\n",
    "import torch.nn.functional as F\n",
    "import matplotlib.pyplot as plt # for making figures\n",
    "%matplotlib inline\n",
    "# read in all the words\n",
    "words = open('names.txt', 'r').read().splitlines()\n",
    "words[:8]"
   ]
  },
  {
   "cell_type": "code",
   "execution_count": 308,
   "metadata": {},
   "outputs": [
    {
     "name": "stdout",
     "output_type": "stream",
     "text": [
      "{1: 'a', 2: 'b', 3: 'c', 4: 'd', 5: 'e', 6: 'f', 7: 'g', 8: 'h', 9: 'i', 10: 'j', 11: 'k', 12: 'l', 13: 'm', 14: 'n', 15: 'o', 16: 'p', 17: 'q', 18: 'r', 19: 's', 20: 't', 21: 'u', 22: 'v', 23: 'w', 24: 'x', 25: 'y', 26: 'z', 0: '.'}\n"
     ]
    }
   ],
   "source": [
    "# build the vocabulary of characters and mappings to/from integers\n",
    "chars = sorted(list(set(''.join(words))))\n",
    "stoi = {s:i+1 for i,s in enumerate(chars)}\n",
    "stoi['.'] = 0\n",
    "itos = {i:s for s,i in stoi.items()}\n",
    "print(itos)"
   ]
  },
  {
   "cell_type": "code",
   "execution_count": 309,
   "metadata": {},
   "outputs": [
    {
     "name": "stdout",
     "output_type": "stream",
     "text": [
      "torch.Size([182625, 4]) torch.Size([182625])\n"
     ]
    }
   ],
   "source": [
    "\n",
    "# build the dataset\n",
    "block_size = 4 # context length: how many characters do we take to predict the next one?\n",
    "\n",
    "def build_dataset(words):  \n",
    "  X, Y = [], []\n",
    "  for w in words:\n",
    "\n",
    "    #print(w)\n",
    "    context = [0] * block_size\n",
    "    for ch in w + '.':\n",
    "      ix = stoi[ch]\n",
    "      X.append(context)\n",
    "      Y.append(ix)\n",
    "      #print(''.join(itos[i] for i in context), '--->', itos[ix])\n",
    "      context = context[1:] + [ix] # crop and append\n",
    "\n",
    "  X = torch.tensor(X)\n",
    "  Y = torch.tensor(Y)\n",
    "  return X, Y\n",
    "import random\n",
    "random.seed(42)\n",
    "random.shuffle(words)\n",
    "n1 = int(0.8*len(words))\n",
    "n2 = int(0.9*len(words))\n",
    "\n",
    "Xtr, Ytr = build_dataset(words[:n1])\n",
    "Xdev, Ydev = build_dataset(words[n1:n2])\n",
    "Xte, Yte = build_dataset(words[n2:])\n",
    "print(Xtr.shape, Ytr.shape)"
   ]
  },
  {
   "cell_type": "code",
   "execution_count": 371,
   "metadata": {},
   "outputs": [
    {
     "data": {
      "text/plain": [
       "78707"
      ]
     },
     "execution_count": 371,
     "metadata": {},
     "output_type": "execute_result"
    }
   ],
   "source": [
    "g = torch.Generator().manual_seed(2147483647) # for reproducibility\n",
    "C1 = torch.randn((27, 40), generator=g)\n",
    "C2 = torch.randn((27, 40), generator=g)\n",
    "W1 = torch.randn((160, 200), generator=g, requires_grad=True)\n",
    "\n",
    "W1_combined = torch.randn((200, 200), generator=g) * .01\n",
    "b1 = torch.randn(200, generator=g) * .01\n",
    "W2 = torch.randn((200, 27), generator=g) * .01\n",
    "b2 = torch.randn(27, generator=g) * 0\n",
    "parameters = [C1, W1, b1, W2, b2, W1_combined]\n",
    "sum(p.nelement() for p in parameters) # number of parameters in total"
   ]
  },
  {
   "cell_type": "code",
   "execution_count": 372,
   "metadata": {},
   "outputs": [],
   "source": [
    "for p in parameters:\n",
    "  p.requires_grad = True"
   ]
  },
  {
   "cell_type": "code",
   "execution_count": 373,
   "metadata": {},
   "outputs": [],
   "source": [
    "lri = []\n",
    "lossi = []\n",
    "stepi = []"
   ]
  },
  {
   "cell_type": "code",
   "execution_count": 396,
   "metadata": {},
   "outputs": [],
   "source": [
    "# Updated Training Loop with Energy Minimization\n",
    "for i in range(10000):\n",
    "    # Minibatch construct\n",
    "    ix = torch.randint(0, Xtr.shape[0], (32,))\n",
    "\n",
    "    # Forward pass\n",
    "    emb1 = C1[Xtr[ix]]  # (32, 3, 10)\n",
    "\n",
    "    # Compute hidden states\n",
    "    h1 = torch.tanh(emb1.view(32, -1) @ W1 + b1)  # (32, 200)\n",
    "    logits = h1 @ W2 + b2  # (32, 27)\n",
    "    loss = F.cross_entropy(logits, Ytr[ix])\n",
    "    # Predict classes and compute additional embedding\n",
    "    pred_classes = torch.argmax(logits, dim=1)\n",
    "    emb2 = C2[pred_classes]  # (32, 10)\n",
    "\n",
    "    # Concatenate embeddings and compute combined hidden state\n",
    "    combined_emb = torch.cat([emb1.view(32, -1), emb2], dim=1)  # (32, 40)\n",
    "    hpreact = combined_emb @ W1_combined + b1\n",
    "    h_combined = torch.tanh(hpreact)  # (32, 200)\n",
    "\n",
    "    seq_bias_sum = b1[Xtr[ix]].sum(dim=1, keepdim=True)  # (32,)\n",
    "\n",
    "    # Full energy computation\n",
    "    energy_scores = torch.tanh(h_combined @ W2 + b2) + seq_bias_sum\n",
    "    energy_loss = F.cross_entropy(-energy_scores, Ytr[ix])\n",
    "    probs = torch.softmax(-energy_scores, dim=1)\n",
    "\n",
    "\n",
    "    total_loss = loss + energy_loss  \n",
    "\n",
    "    # Backward pass\n",
    "    for p in parameters:\n",
    "        p.grad = None \n",
    "    total_loss.backward()\n",
    "\n",
    "    # Update parameters\n",
    "    lr = 0.01 if i < 100000 else 0.001  \n",
    "    for p in parameters:\n",
    "        p.data -= lr * p.grad\n",
    "\n",
    "    # Track stats\n",
    "    stepi.append(i)\n",
    "    lossi.append(total_loss.log10().item())\n",
    "\n"
   ]
  },
  {
   "cell_type": "code",
   "execution_count": 397,
   "metadata": {},
   "outputs": [
    {
     "name": "stdout",
     "output_type": "stream",
     "text": [
      "torch.Size([32, 200])\n"
     ]
    },
    {
     "data": {
      "image/png": "[encoded data removed]",
      "text/plain": [
       "<Figure size 2000x1000 with 1 Axes>"
      ]
     },
     "metadata": {},
     "output_type": "display_data"
    }
   ],
   "source": [
    "plt.figure(figsize=(20,10))\n",
    "plt.imshow(h_combined.abs() > .99, cmap='gray', interpolation='nearest')\n",
    "print(h_combined.shape)"
   ]
  },
  {
   "cell_type": "code",
   "execution_count": 398,
   "metadata": {},
   "outputs": [
    {
     "data": {
      "text/plain": [
       "(array([273., 251., 221., 156., 143., 161., 157., 152., 124., 148., 130.,\n",
       "        110., 126., 114., 114.,  95., 119., 109., 114.,  91.,  83.,  97.,\n",
       "        104.,  80.,  86., 105.,  85.,  74.,  83.,  95., 103.,  95., 103.,\n",
       "        105., 103., 113.,  76.,  89., 108., 109., 104., 123., 135., 153.,\n",
       "        160., 146., 162., 176., 217., 220.]),\n",
       " array([-9.99534726e-01, -9.59557620e-01, -9.19580514e-01, -8.79603409e-01,\n",
       "        -8.39626303e-01, -7.99649197e-01, -7.59672091e-01, -7.19694985e-01,\n",
       "        -6.79717879e-01, -6.39740773e-01, -5.99763668e-01, -5.59786562e-01,\n",
       "        -5.19809456e-01, -4.79832350e-01, -4.39855244e-01, -3.99878138e-01,\n",
       "        -3.59901032e-01, -3.19923927e-01, -2.79946821e-01, -2.39969715e-01,\n",
       "        -1.99992609e-01, -1.60015503e-01, -1.20038397e-01, -8.00612915e-02,\n",
       "        -4.00841856e-02, -1.07079744e-04,  3.98700261e-02,  7.98471320e-02,\n",
       "         1.19824238e-01,  1.59801344e-01,  1.99778450e-01,  2.39755555e-01,\n",
       "         2.79732661e-01,  3.19709767e-01,  3.59686873e-01,  3.99663979e-01,\n",
       "         4.39641085e-01,  4.79618191e-01,  5.19595296e-01,  5.59572402e-01,\n",
       "         5.99549508e-01,  6.39526614e-01,  6.79503720e-01,  7.19480826e-01,\n",
       "         7.59457932e-01,  7.99435037e-01,  8.39412143e-01,  8.79389249e-01,\n",
       "         9.19366355e-01,  9.59343461e-01,  9.99320567e-01]),\n",
       " <BarContainer object of 50 artists>)"
      ]
     },
     "execution_count": 398,
     "metadata": {},
     "output_type": "execute_result"
    },
    {
     "data": {
      "image/png": "[encoded data removed]",
      "text/plain": [
       "<Figure size 640x480 with 1 Axes>"
      ]
     },
     "metadata": {},
     "output_type": "display_data"
    }
   ],
   "source": [
    "plt.hist(h_combined.view(-1).tolist(), 50)"
   ]
  },
  {
   "cell_type": "code",
   "execution_count": 399,
   "metadata": {},
   "outputs": [
    {
     "data": {
      "text/plain": [
       "[<matplotlib.lines.Line2D at 0x1ce00c09950>]"
      ]
     },
     "execution_count": 399,
     "metadata": {},
     "output_type": "execute_result"
    },
    {
     "data": {
      "image/png": "[encoded data removed]",
      "text/plain": [
       "<Figure size 640x480 with 1 Axes>"
      ]
     },
     "metadata": {},
     "output_type": "display_data"
    }
   ],
   "source": [
    "plt.plot(stepi, lossi)"
   ]
  },
  {
   "cell_type": "code",
   "execution_count": 394,
   "metadata": {},
   "outputs": [
    {
     "name": "stdout",
     "output_type": "stream",
     "text": [
      "Loss: 2.215470314025879\n"
     ]
    }
   ],
   "source": [
    "import torch\n",
    "import torch.nn.functional as F\n",
    "\n",
    "emb1 = C1[Xtr] \n",
    "\n",
    "h1 = torch.tanh(emb1.view(emb1.shape[0], -1) @ W1 + b1)  \n",
    "\n",
    "# Compute logits for classification\n",
    "logits = h1 @ W2 + b2  \n",
    "\n",
    "# Compute the cross-entropy loss\n",
    "loss = F.cross_entropy(logits, Ytr) \n",
    "print(f\"Loss: {loss.item()}\")\n"
   ]
  },
  {
   "cell_type": "code",
   "execution_count": 385,
   "metadata": {},
   "outputs": [
    {
     "name": "stdout",
     "output_type": "stream",
     "text": [
      "Loss: 2.2740869522094727\n"
     ]
    }
   ],
   "source": [
    "import torch\n",
    "import torch.nn.functional as F\n",
    "\n",
    "\n",
    "emb1 = C1[Xdev]  \n",
    "\n",
    "\n",
    "h1 = torch.tanh(emb1.view(emb1.shape[0], -1) @ W1 + b1) \n",
    "\n",
    "\n",
    "logits = h1 @ W2 + b2  \n",
    "\n",
    "\n",
    "loss = F.cross_entropy(logits, Ydev) \n",
    "print(f\"Loss: {loss.item()}\")\n"
   ]
  },
  {
   "cell_type": "code",
   "execution_count": 400,
   "metadata": {},
   "outputs": [
    {
     "data": {
      "image/png": "[encoded data removed]",
      "text/plain": [
       "<Figure size 800x800 with 1 Axes>"
      ]
     },
     "metadata": {},
     "output_type": "display_data"
    }
   ],
   "source": [
    "# visualize dimensions 0 and 1 of the embedding matrix C for all characters\n",
    "plt.figure(figsize=(8,8))\n",
    "plt.scatter(C2[:,0].data, C2[:,1].data, s=200)\n",
    "for i in range(C2.shape[0]):\n",
    "    plt.text(C2[i,0].item(), C2[i,1].item(), itos[i], ha=\"center\", va=\"center\", color='white')\n",
    "plt.grid('minor')"
   ]
  },
  {
   "cell_type": "code",
   "execution_count": 401,
   "metadata": {},
   "outputs": [
    {
     "name": "stdout",
     "output_type": "stream",
     "text": [
      "Loss: 2.224665403366089\n"
     ]
    }
   ],
   "source": [
    "import torch\n",
    "import torch.nn.functional as F\n",
    "\n",
    "\n",
    "emb1 = C1[Xte]  \n",
    "\n",
    "\n",
    "h1 = torch.tanh(emb1.view(emb1.shape[0], -1) @ W1 + b1) \n",
    "\n",
    "logits = h1 @ W2 + b2\n",
    "\n",
    "loss = F.cross_entropy(logits, Yte)  \n",
    "print(f\"Loss: {loss.item()}\")\n"
   ]
  },
  {
   "cell_type": "code",
   "execution_count": 402,
   "metadata": {},
   "outputs": [
    {
     "name": "stdout",
     "output_type": "stream",
     "text": [
      "dess.\n",
      "jusabu.\n",
      "leigh.\n",
      "joyannare.\n",
      "emmiyatsi.\n",
      "nala.\n",
      "jaingen.\n",
      "oweas.\n",
      "jiylon.\n",
      "jhanno.\n",
      "jorde.\n",
      "oluwi.\n",
      "aita.\n",
      "joor.\n",
      "palaya.\n",
      "romios.\n",
      "p.\n",
      "cyron.\n",
      "tina.\n",
      "raie.\n"
     ]
    }
   ],
   "source": [
    "import torch\n",
    "import torch.nn.functional as F\n",
    "\n",
    "# Initialize generator with a fixed seed\n",
    "g = torch.Generator().manual_seed(2147483640)\n",
    "\n",
    "for _ in range(20):  # Generate 20 sequences\n",
    "    \n",
    "    out = []\n",
    "    context = [0] * block_size  # Initialize context with padding (or special start tokens)\n",
    "    \n",
    "    while True:\n",
    "        # Embedding lookups for input context\n",
    "        emb1 = C1[torch.tensor([context])]  # Shape: (1, block_size, d1)\n",
    "        h1 = torch.tanh(emb1.view(1, -1) @ W1 + b1)  # Hidden layer: Shape (1, hidden_dim)\n",
    "        \n",
    "        # Compute logits for current context\n",
    "        logits = h1 @ W2 + b2  # Shape: (1, vocab_size)\n",
    "        probs = F.softmax(logits, dim=1)  # Compute probabilities over vocabulary\n",
    "        \n",
    "        # Sample the next token\n",
    "        ix = torch.multinomial(probs, num_samples=1, generator=g).item()  # Random sampling\n",
    "        context = context[1:] + [ix]  # Update context with the new token\n",
    "        out.append(ix)  # Add token to output sequence\n",
    "        \n",
    "        # Stop if end-of-sequence token (assume 0 is the EOS token)\n",
    "        if ix == 0:\n",
    "            break\n",
    "    \n",
    "    # Decode output sequence using `itos` (index-to-string mapping)\n",
    "    print(''.join(itos[i] for i in out))\n"
   ]
  },
  {
   "cell_type": "code",
   "execution_count": null,
   "metadata": {},
   "outputs": [],
   "source": []
  }
 ],
 "metadata": {
  "kernelspec": {
   "display_name": "venv",
   "language": "python",
   "name": "python3"
  },
  "language_info": {
   "codemirror_mode": {
    "name": "ipython",
    "version": 3
   },
   "file_extension": ".py",
   "mimetype": "text/x-python",
   "name": "python",
   "nbconvert_exporter": "python",
   "pygments_lexer": "ipython3",
   "version": "3.11.7"
  }
 },
 "nbformat": 4,
 "nbformat_minor": 2
}
